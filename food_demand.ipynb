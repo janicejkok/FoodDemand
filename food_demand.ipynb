{
 "cells": [
  {
   "cell_type": "markdown",
   "metadata": {},
   "source": [
    "\n",
    "# Preface\n",
    "\n"
   ]
  },
  {
   "cell_type": "code",
   "execution_count": 1,
   "metadata": {},
   "outputs": [],
   "source": [
    "!pip install -r requirements.txt"
   ]
  },
  {
   "cell_type": "markdown",
   "metadata": {},
   "source": [
    "\n",
    "# Consumer Demand for Food\n",
    "\n"
   ]
  },
  {
   "cell_type": "markdown",
   "metadata": {},
   "source": [
    "-   Minimum cost model can be regarded as *prescriptive* or\n",
    "    *descriptive*.  In the former case it&rsquo;s a way of saying what\n",
    "    people *should* eat.  In the latter it&rsquo;s a way of saying what\n",
    "    people *do* eat.\n",
    "\n"
   ]
  },
  {
   "cell_type": "markdown",
   "metadata": {},
   "source": [
    "\n",
    "### Questions\n",
    "\n"
   ]
  },
  {
   "cell_type": "markdown",
   "metadata": {},
   "source": [
    "1.  How could we evaluate the quality of the minimum cost diet as\n",
    "    a *prescription*?  What data or evidence might we gather?\n",
    "2.  How might we evaluate the quality of the minimum cost diet as\n",
    "    a *description* of actual behavior?  What data or evidence\n",
    "    might we gather?\n",
    "3.  Perhaps the model works as description for some populations\n",
    "    better than others.  For what populations might the minimum\n",
    "    cost diet plan serve well?\n",
    "\n"
   ]
  },
  {
   "cell_type": "markdown",
   "metadata": {},
   "source": [
    "\n",
    "## Consumer&rsquo;s problem\n",
    "\n"
   ]
  },
  {
   "cell_type": "markdown",
   "metadata": {},
   "source": [
    "The basic consumer&rsquo;s problem considers the problem of allocating a\n",
    "budget $x$ to purchase consumption goods (including but not\n",
    "limited to different kinds of food).  The consumer is thought to\n",
    "try to choose goods to maximize their *utility*.  Utility in turn\n",
    "is a function that maps *consumption bundles* into the  real\n",
    "line&#x2014;one can think of the level of utility as corresponding to\n",
    "the consumer&rsquo;s happiness or satisfaction.\n",
    "\n",
    "The problem is expressed mathematically as\n",
    "$$\n",
    "      \\max_{c\\in\\R^n_{++}} U(c) \\qquad\\text{such that $p'c\\leq x$,}\n",
    "   $$\n",
    "where $U:\\R^n_{++}\\rightarrow\\R$ is generally assumed to be an\n",
    "increasing, concave, and continuously differentiable function of\n",
    "consumption; $c$ is the consumption bundle; $p$ is a vector of\n",
    "prices for the various goods in $c$; and $x$ is the consumer&rsquo;s\n",
    "total budget.\n",
    "\n"
   ]
  },
  {
   "cell_type": "markdown",
   "metadata": {},
   "source": [
    "1.  Questions\n",
    "\n"
   ]
  },
  {
   "cell_type": "markdown",
   "metadata": {},
   "source": [
    "1.  How is the minimum cost diet problem related to the\n",
    "    consumer&rsquo;s problem?  What is the relevant commodity space?\n",
    "2.  Is it possible to reframe the minimum cost diet problem in\n",
    "    the form of the consumer&rsquo;s problem, or are there fundamental\n",
    "    differences?\n",
    "\n"
   ]
  },
  {
   "cell_type": "markdown",
   "metadata": {},
   "source": [
    "\n",
    "### Cobb-Douglas Example Utility Function\n",
    "\n"
   ]
  },
  {
   "cell_type": "markdown",
   "metadata": {},
   "source": [
    "Let&rsquo;s consider a particular utility function which  takes the\n",
    "form\n",
    "$$\n",
    "       U(c) = \\sum_{i=1}^n\\alpha_i\\log c_i.\n",
    "    $$\n",
    "This logarithmic form is sometimes called a *Cobb-Douglas*\n",
    "utility function, named after a mathematician Charles Cobb and an\n",
    "economist (later Senator) Paul Douglas, who devised the\n",
    "mathematical form as a way of modeling [production](https://en.wikipedia.org/wiki/Cobb%25E2%2580%2593Douglas_production_function).\n",
    "\n"
   ]
  },
  {
   "cell_type": "code",
   "execution_count": 1,
   "metadata": {},
   "outputs": [],
   "source": [
    "from cfe import demands\n",
    "\n",
    "# Cobb-Douglas utility is a special case of a more general class\n",
    "def cobb_douglas_utility(alpha):\n",
    "    \"\"\"\n",
    "    Define Cobb-Douglas utility function.\n",
    "    \"\"\"\n",
    "    n = len(alpha)\n",
    "    U = lambda c: demands.utility(c,alpha,[1]*n,[0]*n)\n",
    "\n",
    "    return U\n",
    "\n",
    "# Three good case:\n",
    "alpha=[0.3,0.7] # Preference parameters\n",
    "\n",
    "U = cobb_douglas_utility(alpha)"
   ]
  },
  {
   "cell_type": "markdown",
   "metadata": {},
   "source": [
    "Now construct a 3-d plot of the utility function for us to visualize:\n",
    "\n"
   ]
  },
  {
   "cell_type": "code",
   "execution_count": 1,
   "metadata": {},
   "outputs": [],
   "source": [
    "from mpl_toolkits import mplot3d\n",
    "import numpy as np\n",
    "import matplotlib.pyplot as plt\n",
    "\n",
    "# Uncomment for use in Jupyter Notebook\n",
    "%matplotlib widget\n",
    "\n",
    "fig = plt.figure()\n",
    "ax = plt.axes(projection='3d')\n",
    "\n",
    "# Commodity space\n",
    "c1 = np.linspace(0.1, 10, 30)\n",
    "c2 = np.linspace(0.1, 10, 30)\n",
    "\n",
    "C1,C2 = np.meshgrid(c1,c2)\n",
    "\n",
    "Utils = np.array([[U([c_1,c_2]) for c_1 in c1] for c_2 in c2])\n",
    "\n",
    "ax.plot_surface(C1, C2, Utils, rstride=1, cstride=1,\n",
    "                cmap='viridis', edgecolor='none',alpha=0.8)\n",
    "\n",
    "ax.set_xlabel('$c_1$')\n",
    "ax.set_ylabel('$c_2$')\n",
    "ax.set_zlabel('Utility')\n",
    "\n",
    "# Plot indifference curves\n",
    "ax.contour(C1,C2,Utils,offset=Utils.min())\n",
    "ax.contour(C1,C2,Utils, colors=\"k\", linestyles=\"solid\")\n",
    "\n",
    "plt.show()"
   ]
  },
  {
   "cell_type": "markdown",
   "metadata": {},
   "source": [
    "1.  Questions\n",
    "\n"
   ]
  },
  {
   "cell_type": "markdown",
   "metadata": {},
   "source": [
    "Some questions covering basic consumer demand that should be\n",
    "familiar.  If not, consult a textbook on intermediate\n",
    "microeconomics (such as [Perloff&rsquo;s textbook with calculus](https://www.amazon.com/Microeconomics-Applications-Calculus-Pearson-Economics/dp/0134167384)).  Or\n",
    "for a concise high-level treatment see the excellent (and free!)\n",
    "[Introduction by Arne Hallam](http://www2.econ.iastate.edu/faculty/hallam/Microeconomics/Intro-Micro.pdf).\n",
    "\n",
    "1.  Economists would call the $(c_1,c_2)$ plane the &ldquo;commodity\n",
    "    space&rdquo;.  Explain.\n",
    "2.  The contour lines in the figure are called &ldquo;Indifference\n",
    "    curves&rdquo;.  Why is this sensible?\n",
    "3.  Economists call the partial derivatives of the utility function with respect to\n",
    "    $c_1$ and $c_2$ *marginal utilities*.  Give a graphical\n",
    "    interpretation of the marginal utility of $c_1$ (holding\n",
    "    $c_2$ fixed).\n",
    "4.  Pick out a point on an indifference curve.  What is its slope\n",
    "    in the $(c_1,c_2)$ plane?\n",
    "5.  Economists call (minus) the slope in the previous question\n",
    "    the consumer&rsquo;s *marginal rate of substitution*.  Explain.\n",
    "\n"
   ]
  },
  {
   "cell_type": "markdown",
   "metadata": {},
   "source": [
    "1.  The Budget Constraint\n",
    "\n"
   ]
  },
  {
   "cell_type": "markdown",
   "metadata": {},
   "source": [
    "Now, how about  the budget constraint?\n",
    "\n"
   ]
  },
  {
   "cell_type": "code",
   "execution_count": 1,
   "metadata": {},
   "outputs": [],
   "source": [
    "import numpy as np\n",
    "from mpl_toolkits.mplot3d import Axes3D\n",
    "from mpl_toolkits.mplot3d.art3d import Poly3DCollection, Line3DCollection\n",
    "import matplotlib.pyplot as plt\n",
    "\n",
    "# Prices of goods\n",
    "p = (1,2)\n",
    "\n",
    "# Budget\n",
    "x=2\n",
    "\n",
    "c1 = np.linspace(0.1, x/p[0]*1.2, 30)\n",
    "c2 = np.linspace(0.1, x/p[1]*1.2, 30)\n",
    "\n",
    "C1,C2 = np.meshgrid(c1,c2)\n",
    "\n",
    "Utils = np.array([[U([c_1,c_2]) for c_1 in c1] for c_2 in c2])\n",
    "\n",
    "Ustar =  demands.marshallian.indirect_utility(x,p,alpha,1,0)\n",
    "\n",
    "fig = plt.figure()\n",
    "ax = plt.axes(projection='3d')\n",
    "\n",
    "ax.set_xlabel('$c_1$')\n",
    "ax.set_ylabel('$c_2$')\n",
    "ax.set_zlabel('Utility')\n",
    "\n",
    "# Plot indifference curves\n",
    "ax.contour(C1,C2,Utils,offset=Utils.min())\n",
    "ax.contour(C1,C2,Utils, colors=\"k\", linestyles=\"solid\")\n",
    "ax.contour(C1,C2,Utils, colors=\"k\", linestyles=\"solid\",levels=[Ustar])\n",
    "\n",
    "xs = [0,0,x/p[0],x/p[0]]\n",
    "ys = [x/p[1],x/p[1],0,0]\n",
    "zs = [Utils.min(),Utils.max()*1.1,Utils.max()*1.1,Utils.min()]\n",
    "\n",
    "tuples = list(zip(xs,ys,zs))\n",
    "\n",
    "vertices = [[0, 1, 2], [0, 1, 3], [0, 2, 3], [1, 2, 3]]\n",
    "\n",
    "poly3d = [[tuples[vertices[ix][iy]] for iy in range(len(vertices[0]))] for ix in range(len(vertices))]\n",
    "\n",
    "faces = Poly3DCollection(poly3d, facecolors='k', linewidths=1, alpha=1)\n",
    "#faces.set_facecolor((0,0,1,0.1))\n",
    "\n",
    "ax.scatter(xs,ys,zs,s=0.001)\n",
    "ax.add_collection3d(faces)\n",
    "\n",
    "ax.plot_surface(C1, C2, Utils, rstride=1, cstride=1,\n",
    "                cmap='viridis', edgecolor='none',alpha=0.8)\n",
    "\n",
    "ax.view_init(elev=89,azim=269.9)\n",
    "plt.show()"
   ]
  },
  {
   "cell_type": "markdown",
   "metadata": {},
   "source": [
    "The budget constraint here is the black line/form.\n",
    "\n"
   ]
  },
  {
   "cell_type": "markdown",
   "metadata": {},
   "source": [
    "1.  Questions\n",
    "\n"
   ]
  },
  {
   "cell_type": "markdown",
   "metadata": {},
   "source": [
    "1.  How is the budget constraint determined by prices $p$ and budget $x$?\n",
    "2.  The figure above shows a tangency between the budget line and a\n",
    "    particular indifference curve.  Show that this point &ldquo;solves&rdquo;\n",
    "    the consumer&rsquo;s problem, in the sense that it maximizes utility\n",
    "    subject to the consumer&rsquo;s budget constraint.\n",
    "\n"
   ]
  },
  {
   "cell_type": "markdown",
   "metadata": {},
   "source": [
    "1.  Demands\n",
    "\n"
   ]
  },
  {
   "cell_type": "markdown",
   "metadata": {},
   "source": [
    "We&rsquo;ve seen how one can find demands given a utility function and a\n",
    "budget constraint.  As one varies the price of a particular good\n",
    "(given a fixed budget and holding other prices fixed) one traces out\n",
    "the *demand curve* for the good.\n",
    "\n",
    "The following code does this for the same utility function we explored\n",
    "above.  Note that for obscure historical reasons it&rsquo;s conventional to\n",
    "plot the independent variable &ldquo;price&rdquo; on the vertical axis, instead of\n",
    "the  horizontal.\n",
    "\n"
   ]
  },
  {
   "cell_type": "code",
   "execution_count": 1,
   "metadata": {},
   "outputs": [],
   "source": [
    "from cfe.demands import marshallian\n",
    "import numpy as np\n",
    "import matplotlib.pyplot as plt\n",
    "\n",
    "alpha=[0.3,0.7] # Preference parameters\n",
    "\n",
    "# Demand for c_1 as a function of own price\n",
    "D1 = lambda p1,p2=1,x=1: marshallian.demands(x,(p1,p2),alpha,1,0)[0]\n",
    "\n",
    "P = np.linspace(.5,5,20)\n",
    "\n",
    "plt.plot([D1(p1) for p1 in P],P)\n",
    "plt.xlabel('$c_1$')\n",
    "plt.ylabel('$p_1$')\n",
    "\n",
    "plt.show()"
   ]
  },
  {
   "cell_type": "markdown",
   "metadata": {},
   "source": [
    "1.  Questions\n",
    "\n"
   ]
  },
  {
   "cell_type": "markdown",
   "metadata": {},
   "source": [
    "1.  How does the demand curve for $c_1$ change if the price of\n",
    "    the other good changes?\n",
    "2.  How does the demand curve for $c_1$ change if the budget $x$\n",
    "    changes?\n",
    "\n"
   ]
  },
  {
   "cell_type": "markdown",
   "metadata": {},
   "source": [
    "1.  Engel Curves\n",
    "\n"
   ]
  },
  {
   "cell_type": "markdown",
   "metadata": {},
   "source": [
    "The &ldquo;demand curve&rdquo; traces out how demand for a good changes as\n",
    "its price changes.  If prices remain fixed and the consumer&rsquo;s\n",
    "*budget* increases this describes what we call an [Engel](https://en.wikipedia.org/wiki/Ernst_Engel) curve.\n",
    "\n"
   ]
  },
  {
   "cell_type": "code",
   "execution_count": 1,
   "metadata": {},
   "outputs": [],
   "source": [
    "from cfe.demands import marshallian\n",
    "import numpy as np\n",
    "import matplotlib.pyplot as plt\n",
    "\n",
    "alpha=[0.3,0.7] # Preference parameters\n",
    "\n",
    "# Demand for c_1 as a function of own price\n",
    "E1 = lambda x,p1=1,p2=1: marshallian.demands(x,(p1,p2),alpha,1,0)\n",
    "\n",
    "X = np.linspace(.1,10,20)\n",
    "\n",
    "plt.plot(X,[E1(x)[0] for x in X],X,[E1(x)[1] for x in X])\n",
    "plt.xlabel('$x$')\n",
    "plt.ylabel('Consumptions')\n",
    "plt.legend(('$c_1$','$c_2$'))\n",
    "plt.title('Engel Curves')\n",
    "\n",
    "plt.show()"
   ]
  },
  {
   "cell_type": "markdown",
   "metadata": {},
   "source": [
    "1.  Questions\n",
    "\n"
   ]
  },
  {
   "cell_type": "markdown",
   "metadata": {},
   "source": [
    "1.  How do the Engel curves depend on prices?\n",
    "2.  In the Cobb-Douglas case the parameters $\\alpha_i$ are\n",
    "    sometimes called &ldquo;budget shares.&rdquo;  Why does this makes\n",
    "    sense?\n",
    "\n"
   ]
  },
  {
   "cell_type": "markdown",
   "metadata": {},
   "source": [
    "\n",
    "### Constant Frisch Elasticity (CFE) Example Utility Function\n",
    "\n"
   ]
  },
  {
   "cell_type": "markdown",
   "metadata": {},
   "source": [
    "The Cobb-Douglas utility function is a special case of a more\n",
    "general class of utility functions.  These allow different\n",
    "curvatures in the utility derived from each good, unlike the\n",
    "Cobb-Douglas case.  They take the form\n",
    "$$\n",
    "       U(c) =\n",
    "    \\sum_{i=1}^n\\alpha_i\\frac{\\beta_i}{\\beta_i-1}(c_i^{1-1/\\beta_i} -1).\n",
    "    $$\n",
    "Thus, where the Cobb-Douglas case had an $n$-vector of\n",
    "parameters $\\alpha$, the CFE case has two $n$-vectors, &alpha;\n",
    "and &beta;.\n",
    "\n"
   ]
  },
  {
   "cell_type": "code",
   "execution_count": 1,
   "metadata": {},
   "outputs": [],
   "source": [
    "from cfe import demands\n",
    "\n",
    "########### Play with these parameters\n",
    "alpha=[0.3,0.7] # Preference parameters\n",
    "beta=[3,2] # Curvature parameters\n",
    "\n",
    "####################\n",
    "\n",
    "U = lambda c: demands.utility(c,alpha,beta,0)"
   ]
  },
  {
   "cell_type": "markdown",
   "metadata": {},
   "source": [
    "Now construct a 3-d plot of the utility function for us to visualize:\n",
    "\n"
   ]
  },
  {
   "cell_type": "code",
   "execution_count": 1,
   "metadata": {},
   "outputs": [],
   "source": [
    "from mpl_toolkits import mplot3d\n",
    "import numpy as np\n",
    "import matplotlib.pyplot as plt\n",
    "\n",
    "# Uncomment for use in Jupyter Notebook\n",
    "%matplotlib widget\n",
    "\n",
    "fig = plt.figure()\n",
    "ax = plt.axes(projection='3d')\n",
    "\n",
    "# Commodity space\n",
    "c1 = np.linspace(0.1, 10, 30)\n",
    "c2 = np.linspace(0.1, 10, 30)\n",
    "\n",
    "C1,C2 = np.meshgrid(c1,c2)\n",
    "\n",
    "Utils = np.array([[U([c_1,c_2]) for c_1 in c1] for c_2 in c2])\n",
    "\n",
    "ax.plot_surface(C1, C2, Utils, rstride=1, cstride=1,\n",
    "                cmap='viridis', edgecolor='none',alpha=0.8)\n",
    "\n",
    "ax.set_xlabel('$c_1$')\n",
    "ax.set_ylabel('$c_2$')\n",
    "ax.set_zlabel('Utility')\n",
    "\n",
    "# Plot indifference curves\n",
    "ax.contour(C1,C2,Utils,offset=Utils.min())\n",
    "ax.contour(C1,C2,Utils, colors=\"k\", linestyles=\"solid\")\n",
    "\n",
    "plt.show()"
   ]
  },
  {
   "cell_type": "markdown",
   "metadata": {},
   "source": [
    "1.  Demands\n",
    "\n"
   ]
  },
  {
   "cell_type": "markdown",
   "metadata": {},
   "source": [
    "We&rsquo;ve seen how one can find demands given a utility function and a\n",
    "budget constraint.  As one varies the price of a particular good\n",
    "(given a fixed budget and holding other prices fixed) one traces out\n",
    "the *demand curve* for the good.\n",
    "\n",
    "The following code does this for the same utility function we explored\n",
    "above.  Note that for obscure historical reasons it&rsquo;s conventional to\n",
    "plot the independent variable &ldquo;price&rdquo; on the vertical axis, instead of\n",
    "the  horizontal.\n",
    "\n"
   ]
  },
  {
   "cell_type": "code",
   "execution_count": 1,
   "metadata": {},
   "outputs": [],
   "source": [
    "from cfe.demands import marshallian\n",
    "import numpy as np\n",
    "import matplotlib.pyplot as plt\n",
    "\n",
    "# Demand for c_1 as a function of own price\n",
    "D1 = lambda p1,p2=1,x=1: marshallian.demands(x,(p1,p2),alpha,beta,0)[0]\n",
    "\n",
    "P = np.linspace(.5,5,20)\n",
    "\n",
    "fig,ax = plt.subplots()\n",
    "\n",
    "\n",
    "#### Play with  p2 & x below!\n",
    "ax.plot([D1(p1,p2=1,x=1) for p1 in P],P)\n",
    "\n",
    "ax.set_xlabel('$c_1$')\n",
    "ax.set_ylabel('$p_1$')\n",
    "\n",
    "plt.show()"
   ]
  },
  {
   "cell_type": "markdown",
   "metadata": {},
   "source": [
    "1.  Questions\n",
    "\n"
   ]
  },
  {
   "cell_type": "markdown",
   "metadata": {},
   "source": [
    "1.  How does the demand curve for $c_1$ change if the price of\n",
    "    the other good changes?\n",
    "2.  How does the demand curve for $c_1$ change if the budget $x$\n",
    "    changes?\n",
    "\n"
   ]
  },
  {
   "cell_type": "markdown",
   "metadata": {},
   "source": [
    "1.  Engel Curves\n",
    "\n"
   ]
  },
  {
   "cell_type": "markdown",
   "metadata": {},
   "source": [
    "The &ldquo;demand curve&rdquo; traces out how demand for a good changes as\n",
    "its price changes.  If prices remain fixed and the consumer&rsquo;s\n",
    "*budget* increases this describes what we call an [Engel](https://en.wikipedia.org/wiki/Ernst_Engel) curve.\n",
    "\n"
   ]
  },
  {
   "cell_type": "code",
   "execution_count": 1,
   "metadata": {},
   "outputs": [],
   "source": [
    "from cfe.demands import marshallian\n",
    "import numpy as np\n",
    "import matplotlib.pyplot as plt\n",
    "\n",
    "# Demand for c_1 as a function of own price\n",
    "E1 = lambda x,p1=1,p2=1: marshallian.demands(x,(p1,p2),alpha,beta,0)\n",
    "\n",
    "X = np.linspace(.1,10,20)\n",
    "\n",
    "fig,ax = plt.subplots()\n",
    "\n",
    "#### Play with prices p1 & p2 below!\n",
    "Ecurves = zip(*[E1(x,p1=1,p2=1) for x in X])\n",
    "\n",
    "ax.plot(X,Ecurves[0],X,Ecurves[1])\n",
    "\n",
    "ax.set_xlabel('$x$')\n",
    "ax.set_ylabel('Consumptions')\n",
    "ax.legend(('$c_1$','$c_2$'))\n",
    "ax.set_title('Engel Curves')\n",
    "\n",
    "plt.show()"
   ]
  },
  {
   "cell_type": "markdown",
   "metadata": {},
   "source": [
    "1.  Questions\n",
    "\n"
   ]
  },
  {
   "cell_type": "markdown",
   "metadata": {},
   "source": [
    "1.  How do the Engel curves depend on prices?\n",
    "\n"
   ]
  }
 ],
 "metadata": {
  "kernelspec": {
   "display_name": "Python 3",
   "language": "python",
   "name": "python3"
  },
  "language_info": {
   "codemirror_mode": {
    "name": "ipython",
    "version": 3
   },
   "file_extension": ".py",
   "mimetype": "text/x-python",
   "name": "python",
   "nbconvert_exporter": "python",
   "pygments_lexer": "ipython3",
   "version": "3.6.4"
  }
 },
 "nbformat": 4,
 "nbformat_minor": 1
}
